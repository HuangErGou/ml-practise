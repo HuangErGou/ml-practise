{
 "cells": [
  {
   "cell_type": "code",
   "execution_count": 1,
   "id": "4eb23301-fb23-49cc-8b18-4ce30988ea81",
   "metadata": {},
   "outputs": [
    {
     "ename": "ModuleNotFoundError",
     "evalue": "No module named 'helper'",
     "output_type": "error",
     "traceback": [
      "\u001b[1;31m---------------------------------------------------------------------------\u001b[0m",
      "\u001b[1;31mModuleNotFoundError\u001b[0m                       Traceback (most recent call last)",
      "Cell \u001b[1;32mIn[1], line 6\u001b[0m\n\u001b[0;32m      4\u001b[0m \u001b[38;5;28;01mimport\u001b[39;00m \u001b[38;5;21;01mmatplotlib\u001b[39;00m\u001b[38;5;21;01m.\u001b[39;00m\u001b[38;5;21;01mpyplot\u001b[39;00m \u001b[38;5;28;01mas\u001b[39;00m \u001b[38;5;21;01mplt\u001b[39;00m\n\u001b[0;32m      5\u001b[0m \u001b[38;5;28;01mimport\u001b[39;00m \u001b[38;5;21;01mscipy\u001b[39;00m\u001b[38;5;21;01m.\u001b[39;00m\u001b[38;5;21;01moptimize\u001b[39;00m \u001b[38;5;28;01mas\u001b[39;00m \u001b[38;5;21;01mopt\u001b[39;00m\n\u001b[1;32m----> 6\u001b[0m \u001b[38;5;28;01mfrom\u001b[39;00m \u001b[38;5;21;01mhelper\u001b[39;00m \u001b[38;5;28;01mimport\u001b[39;00m general \u001b[38;5;28;01mas\u001b[39;00m general\n\u001b[0;32m      7\u001b[0m \u001b[38;5;28;01mfrom\u001b[39;00m \u001b[38;5;21;01mhelper\u001b[39;00m \u001b[38;5;28;01mimport\u001b[39;00m logic_regression \u001b[38;5;28;01mas\u001b[39;00m lr\n",
      "\u001b[1;31mModuleNotFoundError\u001b[0m: No module named 'helper'"
     ]
    }
   ],
   "source": [
    "import numpy as np\n",
    "import pandas as pd\n",
    "import seaborn as sns\n",
    "import matplotlib.pyplot as plt\n",
    "import scipy.optimize as opt\n",
    "import sys\n",
    "\n",
    "sys.path.append('..')\n",
    "from helper import general as general\n",
    "from helper import logic_regression as lr"
   ]
  },
  {
   "cell_type": "code",
   "execution_count": null,
   "id": "4b246ab4-105e-4957-9d73-8f4d33e3787c",
   "metadata": {},
   "outputs": [],
   "source": [
    "data = pd.read_csv('ex2data1.txt', names=['exam1', 'exam2', 'admitted'])\n",
    "print(data.head())"
   ]
  },
  {
   "cell_type": "code",
   "execution_count": null,
   "id": "5a0073b5-4961-4bbb-8ca2-85f54882280d",
   "metadata": {},
   "outputs": [],
   "source": [
    "x = general.get_x(data)\n",
    "print(x.shape)"
   ]
  },
  {
   "cell_type": "code",
   "execution_count": null,
   "id": "ab509b8b-1e02-4820-82d2-7fb7324225b0",
   "metadata": {},
   "outputs": [],
   "source": [
    "y = general.get_y(data)\n",
    "print(y.shape)"
   ]
  },
  {
   "cell_type": "code",
   "execution_count": null,
   "id": "553456ca-d470-4439-8a36-2297f4c9fa3c",
   "metadata": {},
   "outputs": [],
   "source": [
    "theta = np.zeros(3)\n",
    "print(theta)\n",
    "\n",
    "print(lr.cost(theta, x, y))\n",
    "print(lr.gradient(theta, x, y))"
   ]
  },
  {
   "cell_type": "code",
   "execution_count": null,
   "id": "e1f5c204-17e7-4752-9088-df281e58d3f6",
   "metadata": {},
   "outputs": [],
   "source": [
    "res = opt.minimize(fun=lr.cost, x0=theta, args=(x, y), method='Newton-CG', jac=lr.gradient)\n",
    "print(type(res))\n",
    "print(res)"
   ]
  },
  {
   "cell_type": "code",
   "execution_count": null,
   "id": "e88d7c44-cb45-49a8-ad2b-6d7c6ee23579",
   "metadata": {},
   "outputs": [],
   "source": [
    "final_theta = res.x\n",
    "print(res.x)"
   ]
  },
  {
   "cell_type": "code",
   "execution_count": null,
   "id": "1bf6e258-19d0-4e39-8276-5a3acc0dee9d",
   "metadata": {},
   "outputs": [],
   "source": [
    "# https://www.cnblogs.com/volcao/p/9368030.html\n",
    "# θT.xb = θ0 + θ1.x1 + θ2.x2 = 0，则该边界是一条直线，因为分类问题中特征空间的坐标轴都表示特征；\n",
    "# 那么 x2 可以直接算出来\n",
    "\n",
    "coef = -(res.x / res.x[2])\n",
    "print(coef)\n",
    "x = np.arange(130, step=0.1)\n",
    "y = coef[0] + coef[1] * x\n",
    "print(y)"
   ]
  },
  {
   "cell_type": "code",
   "execution_count": null,
   "id": "46fc72c1-a8ed-42ed-b535-a06c4358ab89",
   "metadata": {},
   "outputs": [],
   "source": [
    "sns.lmplot(data=data, x='exam1', y='exam2', hue='admitted', fit_reg=False, scatter_kws={\"s\": 25})\n",
    "plt.plot(x, y)\n",
    "plt.xlim(0, 130)\n",
    "plt.ylim(0, 130)\n",
    "plt.show()"
   ]
  }
 ],
 "metadata": {
  "kernelspec": {
   "display_name": "Python 3 (ipykernel)",
   "language": "python",
   "name": "python3"
  },
  "language_info": {
   "codemirror_mode": {
    "name": "ipython",
    "version": 3
   },
   "file_extension": ".py",
   "mimetype": "text/x-python",
   "name": "python",
   "nbconvert_exporter": "python",
   "pygments_lexer": "ipython3",
   "version": "3.12.2"
  }
 },
 "nbformat": 4,
 "nbformat_minor": 5
}
